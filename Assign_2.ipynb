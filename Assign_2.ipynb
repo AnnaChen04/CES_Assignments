{
 "cells": [
  {
   "cell_type": "markdown",
   "id": "681d94f2-cb79-4746-8ab6-898d2f696e85",
   "metadata": {},
   "source": [
    "# Assignment_2"
   ]
  },
  {
   "cell_type": "markdown",
   "id": "e68208ab-5000-4553-8b5a-312efda60bfe",
   "metadata": {},
   "source": [
    "#### Anna Chen (yc4406)"
   ]
  },
  {
   "cell_type": "markdown",
   "id": "a62613c6-30c1-4e83-839c-4d2c6aad7622",
   "metadata": {},
   "source": [
    "## Part 1: Lists\n",
    "#### 1) Create a list with the names of every planet in the solar system (in order) [note: Pluto is not a planet]\n",
    "#### 2) Have Python tell you how many planets there are by examining your list\n",
    "#### 3) Use slicing to display the first four planets (the rocky planets)\n",
    "#### 4) Iterate through your planets and print the planet name only if it has an s at the end"
   ]
  },
  {
   "cell_type": "code",
   "execution_count": 1,
   "id": "7bca7d07-9715-46ee-8ba1-10d66d8a7f00",
   "metadata": {},
   "outputs": [
    {
     "data": {
      "text/plain": [
       "['Mercury', 'Venus', 'Earth', 'Mars', 'Jupiter', 'Saturn', 'Uranus', 'Neptune']"
      ]
     },
     "execution_count": 1,
     "metadata": {},
     "output_type": "execute_result"
    }
   ],
   "source": [
    "l = [\"Mercury\", \"Venus\", \"Earth\", \"Mars\", \"Jupiter\", \"Saturn\", \"Uranus\", \"Neptune\"]\n",
    "l"
   ]
  },
  {
   "cell_type": "code",
   "execution_count": 2,
   "id": "333180e9-d97b-436e-81f4-6ea981c58af2",
   "metadata": {},
   "outputs": [
    {
     "data": {
      "text/plain": [
       "8"
      ]
     },
     "execution_count": 2,
     "metadata": {},
     "output_type": "execute_result"
    }
   ],
   "source": [
    "len(l)"
   ]
  },
  {
   "cell_type": "code",
   "execution_count": 5,
   "id": "413efa67-01f5-4070-8154-581f8b458543",
   "metadata": {},
   "outputs": [
    {
     "data": {
      "text/plain": [
       "['Mercury', 'Venus', 'Earth', 'Mars']"
      ]
     },
     "execution_count": 5,
     "metadata": {},
     "output_type": "execute_result"
    }
   ],
   "source": [
    "l[slice(4)]"
   ]
  },
  {
   "cell_type": "code",
   "execution_count": 13,
   "id": "4e225f5e-fcaa-4baf-b31d-23f2e710cb0d",
   "metadata": {},
   "outputs": [
    {
     "data": {
      "text/plain": [
       "'Venus'"
      ]
     },
     "execution_count": 13,
     "metadata": {},
     "output_type": "execute_result"
    }
   ],
   "source": [
    "l[1]"
   ]
  },
  {
   "cell_type": "code",
   "execution_count": 15,
   "id": "b9482db9-923b-427e-9493-1009aa5dece8",
   "metadata": {},
   "outputs": [
    {
     "name": "stdout",
     "output_type": "stream",
     "text": [
      "Venus\n",
      "Mars\n",
      "Uranus\n"
     ]
    }
   ],
   "source": [
    "for i in range(7):\n",
    "    if l[i].endswith(\"s\"):\n",
    "        print(l[i])"
   ]
  },
  {
   "cell_type": "markdown",
   "id": "31364658-b18a-4dd2-afbc-47fe2f15686c",
   "metadata": {},
   "source": [
    "## Part 2: Functions\n",
    "#### 1) Write a function to convert temperature from kelvin to celsius and celsius to kelvin\n",
    "\n",
    "#### 2) Write a function to convert temperature to fahrenheit\n",
    "##### Include an optional keyword argument to specify whether the input is in celcius or kelvin. Call your previously defined functions if necessary.\n",
    "\n",
    "#### 3) Check that the outputs are sensible by trying a few examples\n",
    "\n",
    "#### 4) Now write a function that converts from farenheit and uses a keyword argument to specify whether you want the output in celcius or kelvin\n",
    "\n",
    "#### 5) Write a function that takes two arguments (feet and inches) and returns height in meters. Verify it gives sensible answers\n",
    "\n",
    "#### 6) Write a function takes one argument (height in meters) and returns two arguments (feet and inches)\n",
    "\n",
    "#### 7) Verify that the “round trip” conversion from and back to meters is consistent. Check for 3 different values of height in meters"
   ]
  },
  {
   "cell_type": "code",
   "execution_count": 41,
   "id": "437088d1-e896-4f90-853b-8d10abec8042",
   "metadata": {},
   "outputs": [
    {
     "name": "stdout",
     "output_type": "stream",
     "text": [
      "-23.15ºC\n",
      "26.85ºC\n"
     ]
    }
   ],
   "source": [
    "def kel_to_cel(temp):\n",
    "    \"\"\" Convert temperature from kelvin to celsius \"\"\"\n",
    "    return str(round(temp-273.15, 2)) + 'ºC'\n",
    "print(kel_to_cel(250))\n",
    "print(kel_to_cel(300))"
   ]
  },
  {
   "cell_type": "code",
   "execution_count": 39,
   "id": "ccb01b3b-0ef0-40d4-acef-69401b8c2617",
   "metadata": {},
   "outputs": [
    {
     "name": "stdout",
     "output_type": "stream",
     "text": [
      "298.15K\n",
      "303.15K\n"
     ]
    }
   ],
   "source": [
    "def cel_to_kel(temp):\n",
    "    \"\"\" Convert temperature from celsius to kelvin \"\"\"\n",
    "    return str(round(temp+273.15, 2)) + 'K'\n",
    "print(cel_to_kel(25))\n",
    "print(cel_to_kel(30))"
   ]
  },
  {
   "cell_type": "code",
   "execution_count": 40,
   "id": "d32b40c9-29d1-4e40-be14-638272024cea",
   "metadata": {},
   "outputs": [
    {
     "data": {
      "text/plain": [
       "'-402.07ºF'"
      ]
     },
     "execution_count": 40,
     "metadata": {},
     "output_type": "execute_result"
    }
   ],
   "source": [
    "def to_fah(temp, cel=False):\n",
    "    \"\"\" Convert temperature in kelvin or celsius to fahrenheit \"\"\"\n",
    "    if cel:\n",
    "        fah = str(round((temp*9/5 + 32), 2))\n",
    "    else:\n",
    "        temp = kel_to_cel(temp).replace('K', '')\n",
    "        fah = str(round((float(temp)*9/5 + 32), 2))\n",
    "    return fah + 'ºF'\n",
    "to_fah(32, cel=False)"
   ]
  },
  {
   "cell_type": "code",
   "execution_count": 62,
   "id": "7d6a863b-7d72-4609-8ec7-42eb2fc559d6",
   "metadata": {},
   "outputs": [
    {
     "name": "stdout",
     "output_type": "stream",
     "text": [
      "1.85 m\n",
      "1.73 m\n",
      "1.57 m\n"
     ]
    }
   ],
   "source": [
    "def ft_to_m(ft, inch):\n",
    "    \"\"\" Convert feet and inches to meters \"\"\"\n",
    "    return str(round(float(ft/3.281 + inch/39.37),2)) + ' m'\n",
    "print(ft_to_m(6,1))\n",
    "print(ft_to_m(5,8))\n",
    "print(ft_to_m(5,2))"
   ]
  },
  {
   "cell_type": "code",
   "execution_count": 60,
   "id": "1def0c54-c081-459a-8c4e-b19f821cb247",
   "metadata": {},
   "outputs": [
    {
     "name": "stdout",
     "output_type": "stream",
     "text": [
      "6 ft 1 in\n",
      "5 ft 8 in\n",
      "5 ft 2 in\n"
     ]
    }
   ],
   "source": [
    "import math\n",
    "def m_to_ft(meters):\n",
    "    \"\"\" Convert meters to feet and inches \"\"\"\n",
    "    return str(math.floor(meters*3.281)) + ' ft ' + str(int(round((meters*3.281-math.floor(meters*3.281))*12, 0))) + ' in'\n",
    "print(m_to_ft(1.85))\n",
    "print(m_to_ft(1.73))\n",
    "print(m_to_ft(1.57))"
   ]
  }
 ],
 "metadata": {
  "kernelspec": {
   "display_name": "pangeo23",
   "language": "python",
   "name": "pangeo23"
  },
  "language_info": {
   "codemirror_mode": {
    "name": "ipython",
    "version": 3
   },
   "file_extension": ".py",
   "mimetype": "text/x-python",
   "name": "python",
   "nbconvert_exporter": "python",
   "pygments_lexer": "ipython3",
   "version": "3.11.6"
  }
 },
 "nbformat": 4,
 "nbformat_minor": 5
}
