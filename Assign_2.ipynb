{
 "cells": [
  {
   "cell_type": "markdown",
   "id": "681d94f2-cb79-4746-8ab6-898d2f696e85",
   "metadata": {},
   "source": [
    "# Assignment_2"
   ]
  },
  {
   "cell_type": "markdown",
   "id": "e68208ab-5000-4553-8b5a-312efda60bfe",
   "metadata": {},
   "source": [
    "#### Anna Chen (yc4406)\n",
    "#### Due September 17, 2024"
   ]
  },
  {
   "cell_type": "markdown",
   "id": "a62613c6-30c1-4e83-839c-4d2c6aad7622",
   "metadata": {},
   "source": [
    "## Part 1: Lists\n",
    "#### 1) Create a list with the names of every planet in the solar system (in order) [note: Pluto is not a planet]\n",
    "#### 2) Have Python tell you how many planets there are by examining your list\n",
    "#### 3) Use slicing to display the first four planets (the rocky planets)\n",
    "#### 4) Iterate through your planets and print the planet name only if it has an s at the end"
   ]
  },
  {
   "cell_type": "code",
   "execution_count": null,
   "id": "7bca7d07-9715-46ee-8ba1-10d66d8a7f00",
   "metadata": {},
   "outputs": [],
   "source": []
  }
 ],
 "metadata": {
  "kernelspec": {
   "display_name": "pangeo23",
   "language": "python",
   "name": "pangeo23"
  },
  "language_info": {
   "codemirror_mode": {
    "name": "ipython",
    "version": 3
   },
   "file_extension": ".py",
   "mimetype": "text/x-python",
   "name": "python",
   "nbconvert_exporter": "python",
   "pygments_lexer": "ipython3",
   "version": "3.11.6"
  }
 },
 "nbformat": 4,
 "nbformat_minor": 5
}
