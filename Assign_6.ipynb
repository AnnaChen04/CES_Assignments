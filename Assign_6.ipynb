{
 "cells": [
  {
   "cell_type": "markdown",
   "id": "21335262-f3ba-434c-a2bb-450fa9bdebbc",
   "metadata": {},
   "source": [
    "## Assignment 6: Albedo Feedback"
   ]
  },
  {
   "cell_type": "code",
   "execution_count": 3,
   "id": "de27852a-a62a-4e4e-a5a3-31f6f87e5903",
   "metadata": {},
   "outputs": [],
   "source": [
    "import numpy as np\n",
    "from matplotlib import pyplot as plt\n",
    "from scipy.integrate import solve_ivp"
   ]
  },
  {
   "cell_type": "markdown",
   "id": "ac1a8954-69ee-4c69-8c90-68cf9d0dfd85",
   "metadata": {},
   "source": [
    "### Part a"
   ]
  },
  {
   "cell_type": "code",
   "execution_count": 2,
   "id": "97ffc6de-a102-48eb-a746-53069e66ec71",
   "metadata": {},
   "outputs": [],
   "source": [
    "ai = 0.7\n",
    "a0 = 0.289\n",
    "T0 = 293 #K\n",
    "Ti = 260 #K"
   ]
  },
  {
   "cell_type": "code",
   "execution_count": 52,
   "id": "0c098fbb-78e0-4220-a6d7-e996f4ecff9e",
   "metadata": {},
   "outputs": [],
   "source": [
    "# 3 cases of ice-albedo feedback\n",
    "def calc_albedo(T):\n",
    "    if T<=Ti:\n",
    "        f = ai\n",
    "    elif Ti<T<T0:\n",
    "        f = a0 + (ai - a0) * ((T-T0)**2)/((Ti-T0)**2)\n",
    "    else:\n",
    "        f = a0\n",
    "    return f"
   ]
  },
  {
   "cell_type": "code",
   "execution_count": 57,
   "id": "1a83a409-907e-46a4-9776-b467f7ed625f",
   "metadata": {},
   "outputs": [
    {
     "data": {
      "text/plain": [
       "0.289"
      ]
     },
     "execution_count": 57,
     "metadata": {},
     "output_type": "execute_result"
    }
   ],
   "source": [
    "calc_albedo(288)"
   ]
  },
  {
   "cell_type": "code",
   "execution_count": 73,
   "id": "a5571991-ca2b-43cf-8071-970210629e9a",
   "metadata": {},
   "outputs": [
    {
     "data": {
      "text/plain": [
       "(100,)"
      ]
     },
     "execution_count": 73,
     "metadata": {},
     "output_type": "execute_result"
    }
   ],
   "source": [
    "t0 = 250\n",
    "tmax = 300\n",
    "t = np.arange(t0,tmax,0.5)\n",
    "np.shape(t)"
   ]
  },
  {
   "cell_type": "code",
   "execution_count": 87,
   "id": "dfbf1d2d-280c-4263-a2dd-ddbfa2eec866",
   "metadata": {},
   "outputs": [
    {
     "data": {
      "text/plain": [
       "(100,)"
      ]
     },
     "execution_count": 87,
     "metadata": {},
     "output_type": "execute_result"
    }
   ],
   "source": [
    "alb = np.arange(t0,tmax,0.5)\n",
    "np.shape(alb)"
   ]
  },
  {
   "cell_type": "code",
   "execution_count": 89,
   "id": "bae2510e-a12a-4344-98c7-33aa1f61c2a3",
   "metadata": {},
   "outputs": [],
   "source": [
    "for T in range(0,100):\n",
    "    temp = t[T]\n",
    "    alb[T] = calc_albedo(temp)"
   ]
  },
  {
   "cell_type": "code",
   "execution_count": 92,
   "id": "f2846011-af50-4d00-9c75-18ee607738ed",
   "metadata": {},
   "outputs": [
    {
     "data": {
      "text/plain": [
       "Text(0.5, 1.0, 'Albedo as a function of global mean temperature')"
      ]
     },
     "execution_count": 92,
     "metadata": {},
     "output_type": "execute_result"
    },
    {
     "data": {
      "image/png": "[encoded data removed]",
      "text/plain": [
       "<Figure size 640x480 with 1 Axes>"
      ]
     },
     "metadata": {},
     "output_type": "display_data"
    }
   ],
   "source": [
    "fig = plt.figure()\n",
    "plt.plot(t,alb, 'k-')\n",
    "plt.xlabel('Temperature (K)')\n",
    "plt.ylabel('α(T)')\n",
    "plt.title('Albedo as a function of global mean temperature')"
   ]
  },
  {
   "cell_type": "markdown",
   "id": "e38769bd-eb85-41ad-ab72-b28e73eacf32",
   "metadata": {},
   "source": [
    "### Part b"
   ]
  },
  {
   "cell_type": "code",
   "execution_count": 430,
   "id": "b4d90a81-6be0-4eae-a0b7-d9353c11cade",
   "metadata": {},
   "outputs": [
    {
     "data": {
      "text/plain": [
       "0.8"
      ]
     },
     "execution_count": 430,
     "metadata": {},
     "output_type": "execute_result"
    }
   ],
   "source": [
    "solarconstant = 1366 #W/m2\n",
    "stefanboltzman = 5.670374419e-8 #W/m2/K4\n",
    "heatcapacity = 4.0e8 #J/m2/K\n",
    "epsilon = 0.78\n",
    "\n",
    "ai = 0.7\n",
    "a0 = 0.289\n",
    "T0 = 293 #K\n",
    "Ti = 260 #K\n",
    "\n",
    "deleps = 0.02\n",
    "neweps = epsilon + deleps\n",
    "neweps"
   ]
  },
  {
   "cell_type": "code",
   "execution_count": 328,
   "id": "4ae7a9ff-4224-43b9-8d47-f5cc107ea3df",
   "metadata": {},
   "outputs": [],
   "source": [
    "#calc_albedo(288.3280)"
   ]
  },
  {
   "cell_type": "code",
   "execution_count": 488,
   "id": "011f70d0-6b17-4062-a3e7-0b22ee84b7d3",
   "metadata": {},
   "outputs": [],
   "source": [
    "M = 2\n",
    "u = np.zeros((M,))\n",
    "T_s = 288.3280\n",
    "# 288.3280 is the value of current surface temperature calculated in class\n",
    "# Formula: T_s = ((solarconstant * (1 - a0) / 4) / (stefanboltzman * (1 - neweps / 2))) ** (1 / 4)\n",
    "T_a = (neweps * stefanboltzman * T_s ** 4 / (2 * stefanboltzman)) ** (1 / 4)"
   ]
  },
  {
   "cell_type": "code",
   "execution_count": 489,
   "id": "e878d31b-4869-44cc-b4e5-aeda9ce5981d",
   "metadata": {},
   "outputs": [],
   "source": [
    "#def surf_temp( T_s):\n",
    "   # f = ((solarconstant * (1 - calc_albedo(T_s)) / 4) / (stefanboltzman * (1 - neweps / 2))) ** (1 / 4)\n",
    "   # return f\n",
    "#surf_temp(T_s)"
   ]
  },
  {
   "cell_type": "code",
   "execution_count": 490,
   "id": "1645858b-bece-4758-a5f0-35d5103aefd1",
   "metadata": {},
   "outputs": [],
   "source": [
    "u = np.zeros((M,))\n",
    "#u0 = np.zeros((M))\n",
    "u[0] = T_a\n",
    "u[1] = T_s"
   ]
  },
  {
   "cell_type": "code",
   "execution_count": 491,
   "id": "6750019b-48cf-42a1-94d4-33fe484711d6",
   "metadata": {},
   "outputs": [],
   "source": [
    "def calc_warming( t, u): \n",
    "    f = np.zeros((M,))\n",
    "    current_albedo = calc_albedo(u[1])\n",
    "    f[0] = (solarconstant * (1-current_albedo)/4 - neweps*stefanboltzman*(u[0]**4) \n",
    "            - (1-neweps)*stefanboltzman*(u[1]**4))/heatcapacity\n",
    "    f[1] = (solarconstant * (1-current_albedo)/4 + neweps*stefanboltzman*(u[0]**4) - \n",
    "            stefanboltzman*(u[1]**4))/heatcapacity\n",
    "    return f"
   ]
  },
  {
   "cell_type": "code",
   "execution_count": 478,
   "id": "4a914d1a-098d-47ea-afdf-a8cfd05fee8b",
   "metadata": {},
   "outputs": [
    {
     "data": {
      "text/plain": [
       "0.29284757987515625"
      ]
     },
     "execution_count": 478,
     "metadata": {},
     "output_type": "execute_result"
    }
   ],
   "source": [
    "current_albedo"
   ]
  },
  {
   "cell_type": "code",
   "execution_count": 492,
   "id": "9e9fe817-488f-46f0-85d5-b5800505cac1",
   "metadata": {},
   "outputs": [],
   "source": [
    "# Set up time-dependency\n",
    "Dt = 60*60*24*365 #time in years\n",
    "t0 = 0\n",
    "tmax = 100*Dt\n",
    "t = np.arange(t0, tmax, Dt)\n",
    "N = np.shape(t)[0]"
   ]
  },
  {
   "cell_type": "code",
   "execution_count": 493,
   "id": "a177407b-c857-480e-ba5d-09147a142221",
   "metadata": {},
   "outputs": [],
   "source": [
    "sol = solve_ivp(calc_warming, [t0,tmax],u,method='RK45', t_eval=t)"
   ]
  },
  {
   "cell_type": "code",
   "execution_count": 494,
   "id": "4cb70052-3fe1-4910-a3f9-24288cdab7a6",
   "metadata": {},
   "outputs": [
    {
     "name": "stdout",
     "output_type": "stream",
     "text": [
      "[288.328      286.73437861 285.93043181 285.69937133 285.7200986\n",
      " 285.86349446 286.2376686  286.8333008  287.50293377 287.97745427\n",
      " 288.30728678 288.61501522 288.91945888 289.21661098 289.47963873\n",
      " 289.66209182 289.77911063 289.87030573 289.95560218 290.04528941\n",
      " 290.14002116 290.23081553 290.29905498 290.31841667 290.29659643\n",
      " 290.26262074 290.23684302 290.23262556 290.25633952 290.30736493\n",
      " 290.3780907  290.45391459 290.51324325 290.52749219 290.45757582\n",
      " 290.30637607 290.14113169 290.01549877 289.96589224 290.01148587\n",
      " 290.15421226 290.37876289 290.65258805 290.92589689 291.1316574\n",
      " 291.18559642 291.00042837 290.75563908 290.58010442 290.50134474\n",
      " 290.51543598 290.58700968 290.649253   290.6137945  290.54801073\n",
      " 290.49815526 290.46613407 290.45035144 290.44570998 290.44361057\n",
      " 290.43226768 290.40870303 290.38183006 290.35900602 290.34533998\n",
      " 290.34369282 290.35467721 290.37665766 290.40575047 290.43582374\n",
      " 290.4584974  290.46314316 290.43352264 290.36200357 290.27551626\n",
      " 290.19767731 290.14601306 290.13195958 290.16086267 290.23197787\n",
      " 290.33847043 290.46741536 290.59979739 290.71051097 290.76836031\n",
      " 290.73605932 290.61084    290.48558281 290.39877258 290.36913521\n",
      " 290.39809348 290.46976706 290.55097253 290.59122331 290.54682587\n",
      " 290.49816325 290.4634352  290.44277491 290.43347884 290.43000666]\n"
     ]
    }
   ],
   "source": [
    "print(sol.y[1])"
   ]
  },
  {
   "cell_type": "code",
   "execution_count": 495,
   "id": "be132117-ccc2-4994-bf64-5030ddaa7a7a",
   "metadata": {},
   "outputs": [
    {
     "data": {
      "text/plain": [
       "<matplotlib.legend.Legend at 0x76897802d150>"
      ]
     },
     "execution_count": 495,
     "metadata": {},
     "output_type": "execute_result"
    },
    {
     "data": {
      "image/png": "[encoded data removed]",
      "text/plain": [
       "<Figure size 640x480 with 1 Axes>"
      ]
     },
     "metadata": {},
     "output_type": "display_data"
    }
   ],
   "source": [
    "fig = plt.figure()\n",
    "plt.plot(sol.t / (60*60*24*365), sol.y[0], 'k-', label='Top of atm temperature')\n",
    "plt.plot(sol.t / (60*60*24*365), sol.y[1], 'r-', label='Surface temperature')\n",
    "plt.xlabel('Time (year)')\n",
    "plt.ylabel('Temperature (K)')\n",
    "plt.legend()"
   ]
  },
  {
   "cell_type": "code",
   "execution_count": 496,
   "id": "1f40b74e-40c1-48a6-97b9-e42ba1459f56",
   "metadata": {},
   "outputs": [],
   "source": [
    "initial_surface_temp = T_s\n",
    "final_surface_temp = sol.y[1][-1]\n",
    "total_warming = final_surface_temp - initial_surface_temp"
   ]
  },
  {
   "cell_type": "code",
   "execution_count": 497,
   "id": "8a04af25-e4c9-4a98-b49a-49aa826c9601",
   "metadata": {},
   "outputs": [
    {
     "name": "stdout",
     "output_type": "stream",
     "text": [
      "Total warming (new equilibrium surface temperature - initial surface temperature) is 2.1020\n"
     ]
    }
   ],
   "source": [
    "print(\"Total warming (new equilibrium surface temperature - initial surface temperature) is %0.4f\" % (total_warming))"
   ]
  },
  {
   "cell_type": "code",
   "execution_count": null,
   "id": "d756eb52-0b39-4af2-8183-6a7dbb1ecc7b",
   "metadata": {},
   "outputs": [],
   "source": [
    "# Surface temperature is 288.32\n",
    "\n",
    "T_s = ((solarconstant*(1-albedo) /4) / (stefanboltzman*(1-epsilon/2))) ** (1/4)\n",
    "T_s_new = ((solarconstant*(1-albedo) /4) / (stefanboltzman*(1-neweps/2))) ** (1/4)\n",
    "\n",
    "\n",
    "warming = T_s_new - T_s\n",
    "print(warming)"
   ]
  },
  {
   "cell_type": "code",
   "execution_count": null,
   "id": "1e773694-8b54-4dc0-b3a0-f38def854c07",
   "metadata": {},
   "outputs": [],
   "source": []
  },
  {
   "cell_type": "code",
   "execution_count": 96,
   "id": "91fa7a94-45d0-423e-8279-ba4ce94e8963",
   "metadata": {},
   "outputs": [],
   "source": [
    "deleps = -4 / (stefanboltzman* T_a**4 - stefanboltzman*T_s**4)\n",
    "neweps = eps + deleps"
   ]
  },
  {
   "cell_type": "code",
   "execution_count": 98,
   "id": "88f42140-7e0b-485d-9aa3-8130becc520c",
   "metadata": {},
   "outputs": [
    {
     "name": "stdout",
     "output_type": "stream",
     "text": [
      "Average temperature of the earth is 290.5401 Kelvin or 17.3901 deg C\n"
     ]
    }
   ],
   "source": [
    "T_s_new = ((solarconstant*(1-albedo) /4) / (stefanboltzman*(1-neweps/2))) ** (1/4)\n",
    "print(\"Average temperature of the earth is %0.4f Kelvin or %0.4f deg C\" % (T_s_new, T_s_new-273.15))"
   ]
  },
  {
   "cell_type": "code",
   "execution_count": 99,
   "id": "199ef403-ad97-423a-8158-87a4e9f04d6a",
   "metadata": {},
   "outputs": [
    {
     "name": "stdout",
     "output_type": "stream",
     "text": [
      "Warming of the earth's surface is 1.0182 Kelvin\n"
     ]
    }
   ],
   "source": [
    "warming = T_s_new - T_s\n",
    "print(\"Warming of the earth's surface is %0.4f Kelvin\" % (warming))"
   ]
  }
 ],
 "metadata": {
  "kernelspec": {
   "display_name": "Python 3 (ipykernel)",
   "language": "python",
   "name": "python3"
  },
  "language_info": {
   "codemirror_mode": {
    "name": "ipython",
    "version": 3
   },
   "file_extension": ".py",
   "mimetype": "text/x-python",
   "name": "python",
   "nbconvert_exporter": "python",
   "pygments_lexer": "ipython3",
   "version": "3.11.7"
  }
 },
 "nbformat": 4,
 "nbformat_minor": 5
}
