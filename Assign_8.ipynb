{
 "cells": [
  {
   "cell_type": "markdown",
   "id": "680ae924-e62c-4c9e-bdab-6e87355ead71",
   "metadata": {},
   "source": [
    "# Assignment 8"
   ]
  },
  {
   "cell_type": "raw",
   "id": "090364b0-9fd6-451b-882e-640cb17e3b9a",
   "metadata": {},
   "source": [
    "Your task here is to modify the code we developed in class to calculate ozone formation as a function of NOx and RH (hydrocarbon) mixing ratio to create an \"ozone isopleth plot\" as in the accompanying slide show on this lecture topic. See the figure in the last slide. You will want to write a function that takes as input NOx and RH mixing ratios (in ppb) and outputs maximum O3. Then make a contour plot of maximum O3 concentration as a function of input NOx and RH mixing ratio. Express the O3 concentration in ppb as well. You can use a range of 0-50 ppb for initial NOx and 50-500 ppb for initial RH (hydrocarbon). Upload your notebook to github and provide the link as usual. Compare to the plot in the slideshow (final slide) to confirm your solution. "
   ]
  },
  {
   "cell_type": "code",
   "execution_count": 36,
   "id": "3fc3683b-6c4a-4594-a8f6-ec20123ba459",
   "metadata": {},
   "outputs": [],
   "source": [
    "import numpy as np\n",
    "from matplotlib import pyplot as plt\n",
    "from scipy.integrate import solve_ivp"
   ]
  },
  {
   "cell_type": "code",
   "execution_count": 45,
   "id": "c8003bf9-fd67-4322-9d46-0965acb42727",
   "metadata": {},
   "outputs": [],
   "source": [
    "# inputs for idea gas law\n",
    "temp = 298 #K\n",
    "pres = 1e5 #Pa\n",
    "Rgas = 8.134 #J/(mol-K)\n",
    "avo = 6.022e23"
   ]
  },
  {
   "cell_type": "code",
   "execution_count": 241,
   "id": "615f1f9e-1b2d-446c-a57b-d14a27ee3ad4",
   "metadata": {},
   "outputs": [],
   "source": [
    "# create meshgrid for NOx and RH values as coordinates for contour map\n",
    "nox_list = np.arange(0,51,5) #ppbv # range is 0-50\n",
    "rh_list = np.arange(50,501,50) #ppbv #range is 50-500\n",
    "PHOx = 0.1 #pptv/s"
   ]
  },
  {
   "cell_type": "code",
   "execution_count": 242,
   "id": "826a5e4d-53ae-4dcf-9765-0f96dc81f56b",
   "metadata": {},
   "outputs": [
    {
     "name": "stdout",
     "output_type": "stream",
     "text": [
      "[[ 0  5 10 15 20 25 30 35 40 45 50]\n",
      " [ 0  5 10 15 20 25 30 35 40 45 50]\n",
      " [ 0  5 10 15 20 25 30 35 40 45 50]\n",
      " [ 0  5 10 15 20 25 30 35 40 45 50]\n",
      " [ 0  5 10 15 20 25 30 35 40 45 50]\n",
      " [ 0  5 10 15 20 25 30 35 40 45 50]\n",
      " [ 0  5 10 15 20 25 30 35 40 45 50]\n",
      " [ 0  5 10 15 20 25 30 35 40 45 50]\n",
      " [ 0  5 10 15 20 25 30 35 40 45 50]\n",
      " [ 0  5 10 15 20 25 30 35 40 45 50]]\n",
      "[[ 50  50  50  50  50  50  50  50  50  50  50]\n",
      " [100 100 100 100 100 100 100 100 100 100 100]\n",
      " [150 150 150 150 150 150 150 150 150 150 150]\n",
      " [200 200 200 200 200 200 200 200 200 200 200]\n",
      " [250 250 250 250 250 250 250 250 250 250 250]\n",
      " [300 300 300 300 300 300 300 300 300 300 300]\n",
      " [350 350 350 350 350 350 350 350 350 350 350]\n",
      " [400 400 400 400 400 400 400 400 400 400 400]\n",
      " [450 450 450 450 450 450 450 450 450 450 450]\n",
      " [500 500 500 500 500 500 500 500 500 500 500]]\n"
     ]
    }
   ],
   "source": [
    "NOx, RH = np.meshgrid(nox_list, rh_list)\n",
    "print(NOx)\n",
    "print(RH)"
   ]
  },
  {
   "cell_type": "code",
   "execution_count": 200,
   "id": "dd4f637f-c834-44cf-b25f-b9ff4faa2444",
   "metadata": {},
   "outputs": [],
   "source": [
    "# rate constants for each gas species (eg. VOCs) at 298K, units are cm3/(molec-s)\n",
    "k1 = 26.3e-12\n",
    "k2 = 7.7e-12\n",
    "k3 = 8.1e-12\n",
    "k4 = 1.1e-11\n",
    "k5 = 2.9e-12\n",
    "k6 = 5.2e-12\n",
    "k7 = 0.015 # units s-1\n",
    "k8 = 1.9e-14"
   ]
  },
  {
   "cell_type": "code",
   "execution_count": 237,
   "id": "a24514cd-3c14-4501-b9fc-9e7ebd67496b",
   "metadata": {},
   "outputs": [],
   "source": [
    "#unit conversions\n",
    "airden = (pres*avo) / (Rgas*temp*1e6) #air density, converted to mol/cm3 #concentration of all species in the atmosphere\n",
    "CNOx = NOx*1e-9*airden #concentration of NOx in mol/cm3\n",
    "CRH = RH*1e-9*airden #concenrtation of RH in mol/cm3\n",
    "CPHOx = PHOx*1e-12*airden #concentration of PHOx in mol/cm3, it's 1e-12 because the original unit is parts per trillian\n",
    "\n",
    "#create a factor that can easily convert concentration in molecules/cm3 to ppb\n",
    "ppbfac = 1e9/airden"
   ]
  },
  {
   "cell_type": "code",
   "execution_count": 202,
   "id": "3b773e0c-bbc5-4da8-94a4-c3c5d5bdd46c",
   "metadata": {},
   "outputs": [],
   "source": [
    "# set function for ozone formation\n",
    "\n",
    "# u[0] u[1] u[2] u[3] u[4] u[5] u[6]\n",
    "# NO   NO2   OH  RO2  HO2   O3   RH\n",
    "def myfun(t,u):\n",
    "    f = np.zeros(7)\n",
    "    f[0] = -k2*u[3]*u[0] + k7*u[1] - k8*u[5]*u[0] - k3*u[4]*u[0] # rate of NO change\n",
    "    f[1] = k2*u[3]*u[0] + k3*u[4]*u[0] + k8*u[5]*u[0] - k7*u[1] - k4*u[2]*u[1]\n",
    "    f[2] = -k1*u[6]*u[2] + k3*u[4]*u[0] - k4*u[2]*u[1] + CPHOx \n",
    "    f[3] = k1*u[6]*u[2] - k2*u[3]*u[0] - k6*u[3]*u[4]\n",
    "    f[4] = k2*u[3]*u[0] - k3*u[4]*u[0] - 2*k5*u[4]**2 - k6*u[3]*u[4] #twice HO2 is in reactants\n",
    "    f[5] = k7*u[1] - k8*u[5]*u[0]\n",
    "    f[6] = -k1*u[6]*u[2]\n",
    "    return f"
   ]
  },
  {
   "cell_type": "code",
   "execution_count": 243,
   "id": "8b3abc6b-abdd-48eb-a943-b2934255ef80",
   "metadata": {},
   "outputs": [],
   "source": [
    "# Create an empty max_ozone matrix\n",
    "max_ozone = np.zeros_like(NOx)"
   ]
  },
  {
   "cell_type": "code",
   "execution_count": 248,
   "id": "c050238b-01ab-4fd6-a6bb-37fff0622e57",
   "metadata": {},
   "outputs": [],
   "source": [
    "# Loop over each combination of initial NOx and RH\n",
    "for i in range(NOx.shape[0]):\n",
    "    for j in range(NOx.shape[1]):\n",
    "        u0 = np.zeros(7)  # Initialize the concentrations of all species to zero\n",
    "        u0[0] = CNOx[i, j]*2/3  # Initial NO concentration\n",
    "        u0[1] = CNOx[i, j]*1/3  # Initial NO2 concentration\n",
    "        u0[2] = 0\n",
    "        u0[3] = 0\n",
    "        u0[4] = 0\n",
    "        u0[5] = 0\n",
    "        u0[6] = CRH[i, j]\n",
    "        sol = solve_ivp(myfun, [t0, tmax], u0, method='LSODA', t_eval=t)\n",
    "        max_ozone[i, j] = np.max(sol.y[5]*ppbfac)"
   ]
  },
  {
   "cell_type": "code",
   "execution_count": 249,
   "id": "034851eb-ad97-42cd-afe8-3d19cd49be73",
   "metadata": {},
   "outputs": [],
   "source": [
    "# Timestep: changed to a larger Dt than from class to save computational time (doesn't really affect final output accuracy)\n",
    "Dt = 360 #seconds\n",
    "t0 = 0\n",
    "tmax = 96*3600\n",
    "t = np.arange(t0, t0+tmax, Dt)\n",
    "NN = np.shape(t)\n",
    "N = NN[0]"
   ]
  },
  {
   "cell_type": "code",
   "execution_count": 251,
   "id": "cf37d9f7-c168-4a38-98b7-9b8bf66dd9d4",
   "metadata": {},
   "outputs": [
    {
     "data": {
      "text/plain": [
       "<matplotlib.colorbar.Colorbar at 0x72eecc48e490>"
      ]
     },
     "execution_count": 251,
     "metadata": {},
     "output_type": "execute_result"
    },
    {
     "data": {
      "image/png": "[encoded data removed]",
      "text/plain": [
       "<Figure size 640x480 with 2 Axes>"
      ]
     },
     "metadata": {},
     "output_type": "display_data"
    }
   ],
   "source": [
    "plt.contourf(RH, NOx, max_ozone, levels=20, cmap='viridis')\n",
    "plt.xlabel('Initial RH (ppb)')\n",
    "plt.ylabel('Initial NOx (ppb)')\n",
    "plt.title('Maximum Ozone Concentration')\n",
    "plt.colorbar(label='Max Ozone (ppb)')"
   ]
  }
 ],
 "metadata": {
  "kernelspec": {
   "display_name": "pangeo23",
   "language": "python",
   "name": "pangeo23"
  },
  "language_info": {
   "codemirror_mode": {
    "name": "ipython",
    "version": 3
   },
   "file_extension": ".py",
   "mimetype": "text/x-python",
   "name": "python",
   "nbconvert_exporter": "python",
   "pygments_lexer": "ipython3",
   "version": "3.11.6"
  }
 },
 "nbformat": 4,
 "nbformat_minor": 5
}
